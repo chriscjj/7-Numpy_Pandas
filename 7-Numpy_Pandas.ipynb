{
 "cells": [
  {
   "cell_type": "code",
   "execution_count": 1,
   "id": "9aab6214-6600-48fa-bfd9-39fb34076864",
   "metadata": {},
   "outputs": [],
   "source": [
    "import pandas as pd\n",
    "import numpy as np"
   ]
  },
  {
   "cell_type": "code",
   "execution_count": 10,
   "id": "8b02c76c-a8ab-4e1c-aee0-d3c6d0628c59",
   "metadata": {},
   "outputs": [],
   "source": [
    "### Create a numpy array containing the numbers from 1 to 10, and then reshape it to a 2x5 matrix."
   ]
  },
  {
   "cell_type": "code",
   "execution_count": 8,
   "id": "f5e17f9b-de4a-4390-b98a-9f259a319742",
   "metadata": {},
   "outputs": [],
   "source": [
    "arr1 = np.arange(1,11)"
   ]
  },
  {
   "cell_type": "code",
   "execution_count": 5,
   "id": "992fac1b-9a62-4b0f-a8b8-57f84b2f2cd9",
   "metadata": {},
   "outputs": [
    {
     "name": "stdout",
     "output_type": "stream",
     "text": [
      "[ 1  2  3  4  5  6  7  8  9 10]\n"
     ]
    }
   ],
   "source": [
    "print(arr1)"
   ]
  },
  {
   "cell_type": "code",
   "execution_count": 7,
   "id": "2e4b03d1-b100-4fcd-a735-e2e0a4388678",
   "metadata": {},
   "outputs": [
    {
     "name": "stdout",
     "output_type": "stream",
     "text": [
      "[[ 1  2  3  4  5]\n",
      " [ 6  7  8  9 10]]\n"
     ]
    }
   ],
   "source": [
    "arr1_reshape=arr1.reshape(2,5)\n",
    "print(arr1_reshape)"
   ]
  },
  {
   "cell_type": "code",
   "execution_count": 11,
   "id": "16ed19f4-5bd5-4b71-85fe-ea510497888f",
   "metadata": {},
   "outputs": [],
   "source": [
    "### Create a numpy array containing the numbers from 1 to 20, and then extract the elements between the 5th and 15th index."
   ]
  },
  {
   "cell_type": "code",
   "execution_count": 12,
   "id": "cc6f8c6b-d802-471d-a897-f2d717f3d031",
   "metadata": {},
   "outputs": [],
   "source": [
    "arr1 = np.arange(1,21)"
   ]
  },
  {
   "cell_type": "code",
   "execution_count": 13,
   "id": "8b915045-bd97-4c79-a7a7-1a1287faa22c",
   "metadata": {},
   "outputs": [
    {
     "data": {
      "text/plain": [
       "array([ 6,  7,  8,  9, 10, 11, 12, 13, 14, 15, 16])"
      ]
     },
     "execution_count": 13,
     "metadata": {},
     "output_type": "execute_result"
    }
   ],
   "source": [
    "arr1[5:16]"
   ]
  },
  {
   "cell_type": "code",
   "execution_count": 14,
   "id": "0d24a0e0-cbe9-4113-8f21-81aa93ee8bf0",
   "metadata": {},
   "outputs": [],
   "source": [
    "### Create a Pandas series with the following data: {'apples': 3, 'bananas': 2, 'oranges': 1}. Then, add a new item to the series with the key 'pears' and the value 4."
   ]
  },
  {
   "cell_type": "code",
   "execution_count": 16,
   "id": "672ab175-0f2e-4299-91e1-348cc11f8309",
   "metadata": {},
   "outputs": [
    {
     "data": {
      "text/plain": [
       "apples     3\n",
       "bananas    2\n",
       "oranges    1\n",
       "dtype: int64"
      ]
     },
     "execution_count": 16,
     "metadata": {},
     "output_type": "execute_result"
    }
   ],
   "source": [
    "fruits = pd.Series({'apples': 3, 'bananas': 2, 'oranges': 1})\n",
    "fruits"
   ]
  },
  {
   "cell_type": "code",
   "execution_count": 19,
   "id": "8b708df0-fae5-4952-ba30-14a8580f7608",
   "metadata": {},
   "outputs": [
    {
     "name": "stdout",
     "output_type": "stream",
     "text": [
      "apples     3\n",
      "bananas    2\n",
      "oranges    1\n",
      "pears      4\n",
      "dtype: int64\n"
     ]
    }
   ],
   "source": [
    "fruits['pears'] = 4  \n",
    "print(fruits)"
   ]
  },
  {
   "cell_type": "code",
   "execution_count": 20,
   "id": "1a52e0ad-0737-4d85-aad6-f2ba88295aad",
   "metadata": {},
   "outputs": [],
   "source": [
    "### Create a dataframe with the following columns: name, age, and gender. The dataframe should have 10 rows of data."
   ]
  },
  {
   "cell_type": "code",
   "execution_count": 23,
   "id": "a8dc8faf-1712-4344-8a7e-2dc87301f547",
   "metadata": {},
   "outputs": [
    {
     "name": "stdout",
     "output_type": "stream",
     "text": [
      "    name  age  gender\n",
      "0   John   25    Male\n",
      "1  Alice   34  Female\n",
      "2    Bob   28    Male\n",
      "3  David   40    Male\n",
      "4   Emma   22  Female\n",
      "5  Frank   30    Male\n",
      "6  Grace   45  Female\n",
      "7  Helen   27  Female\n",
      "8    Ivy   35  Female\n",
      "9   Jack   29    Male\n"
     ]
    }
   ],
   "source": [
    "data = {\n",
    "    'name': ['John', 'Alice', 'Bob', 'David', 'Emma', 'Frank', 'Grace', 'Helen', 'Ivy', 'Jack'],\n",
    "    'age': [25, 34, 28, 40, 22, 30, 45, 27, 35, 29],\n",
    "    'gender': ['Male', 'Female', 'Male', 'Male', 'Female', 'Male', 'Female', 'Female', 'Female', 'Male']\n",
    "}\n",
    "df = pd.DataFrame(data)\n",
    "print(df)"
   ]
  },
  {
   "cell_type": "code",
   "execution_count": 24,
   "id": "756046c6-eeb1-4a16-8800-0a072c8f17b8",
   "metadata": {},
   "outputs": [],
   "source": [
    "### Add a new column to the data frame created in question 1, called occupation. The values for this column should be Programmer, Manager, and Analyst, corresponding to the rows in the dataframe."
   ]
  },
  {
   "cell_type": "code",
   "execution_count": 25,
   "id": "04e9b67a-a565-47c7-8657-e6ef94f56200",
   "metadata": {},
   "outputs": [
    {
     "name": "stdout",
     "output_type": "stream",
     "text": [
      "    name  age  gender  occupation\n",
      "0   John   25    Male  Programmer\n",
      "1  Alice   34  Female     Manager\n",
      "2    Bob   28    Male     Analyst\n",
      "3  David   40    Male     Manager\n",
      "4   Emma   22  Female  Programmer\n",
      "5  Frank   30    Male     Analyst\n",
      "6  Grace   45  Female     Manager\n",
      "7  Helen   27  Female  Programmer\n",
      "8    Ivy   35  Female     Analyst\n",
      "9   Jack   29    Male     Manager\n"
     ]
    }
   ],
   "source": [
    "df['occupation'] = ['Programmer', 'Manager', 'Analyst', 'Manager', 'Programmer', 'Analyst', 'Manager', 'Programmer', 'Analyst', 'Manager']\n",
    "print(df)"
   ]
  },
  {
   "cell_type": "code",
   "execution_count": 26,
   "id": "8835c063-5545-4a8f-9ebf-3ce34724c719",
   "metadata": {},
   "outputs": [],
   "source": [
    "### Select the rows of the dataframe where the age is greater than or equal to 30."
   ]
  },
  {
   "cell_type": "code",
   "execution_count": 27,
   "id": "b90dbfec-8534-4da1-8ced-6eeb2efe5965",
   "metadata": {},
   "outputs": [
    {
     "name": "stdout",
     "output_type": "stream",
     "text": [
      "    name  age  gender occupation\n",
      "1  Alice   34  Female    Manager\n",
      "3  David   40    Male    Manager\n",
      "5  Frank   30    Male    Analyst\n",
      "6  Grace   45  Female    Manager\n",
      "8    Ivy   35  Female    Analyst\n"
     ]
    }
   ],
   "source": [
    "age_df = df[df['age'] >= 30]\n",
    "print(age_df)"
   ]
  },
  {
   "cell_type": "code",
   "execution_count": 28,
   "id": "ac7557e2-a26d-42e1-8d17-e4b584d9d321",
   "metadata": {},
   "outputs": [],
   "source": [
    "### Convert this dataframe to a csv file and read that csv file, finally display the contents."
   ]
  },
  {
   "cell_type": "code",
   "execution_count": 29,
   "id": "489d5dd7-e9aa-426b-8d21-d8fdbdc8493f",
   "metadata": {},
   "outputs": [],
   "source": [
    "df.to_csv('employeement.csv',index=False)"
   ]
  },
  {
   "cell_type": "code",
   "execution_count": null,
   "id": "39525d49-d857-48e2-8dab-d051b001025b",
   "metadata": {},
   "outputs": [],
   "source": [
    "df_read="
   ]
  }
 ],
 "metadata": {
  "kernelspec": {
   "display_name": "Python 3 (ipykernel)",
   "language": "python",
   "name": "python3"
  },
  "language_info": {
   "codemirror_mode": {
    "name": "ipython",
    "version": 3
   },
   "file_extension": ".py",
   "mimetype": "text/x-python",
   "name": "python",
   "nbconvert_exporter": "python",
   "pygments_lexer": "ipython3",
   "version": "3.12.7"
  }
 },
 "nbformat": 4,
 "nbformat_minor": 5
}
